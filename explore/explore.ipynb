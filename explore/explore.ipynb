{
 "cells": [
  {
   "cell_type": "code",
   "execution_count": 10,
   "metadata": {
    "autoscroll": false,
    "collapsed": false,
    "ein.hycell": false,
    "ein.tags": "worksheet-0",
    "slideshow": {
     "slide_type": "-"
    }
   },
   "outputs": [
    {
     "data": {
      "image/png": "[encoded data removed]",
      "text/plain": [
       "<Figure size 432x288 with 1 Axes>"
      ]
     },
     "metadata": {},
     "output_type": "display_data"
    }
   ],
   "source": [
    "import math\n",
    "import numpy as np\n",
    "from scipy.io import loadmat\n",
    "import torch\n",
    "import gpytorch\n",
    "from matplotlib import pyplot as plt\n",
    "import dk_kernel\n",
    "train_x = torch.linspace(0, 1, 10)\n",
    "test_x = torch.linspace(0, 1, 10)\n",
    "train_y = torch.stack(\n",
    "    [torch.sin(train_x * (2 * math.pi)),\n",
    "     torch.cos(train_x * (2 * math.pi))],-1) \n",
    "plt.scatter(train_x.numpy(),train_y[:,0].numpy())\n",
    "plt.scatter(train_x.numpy(),train_y[:,1].numpy())\n",
    "plt.show()\n",
    "class MultitaskGPModel(gpytorch.models.ExactGP):\n",
    "    def __init__(self, train_x, train_y, likelihood):\n",
    "        super(MultitaskGPModel, self).__init__(train_x, train_y, likelihood)\n",
    "        self.mean_module = gpytorch.means.MultitaskMean(\n",
    "            #gpytorch.means.ConstantMean(), num_tasks=2\n",
    "            gpytorch.means.ZeroMean(), num_tasks=2\n",
    "        )\n",
    "        self.covar_module = dk_kernel.MultitaskRBFKernel(\n",
    "            gpytorch.kernels.RBFKernel(), num_tasks=2, rank=1\n",
    "        )\n",
    "\n",
    "    def forward(self, x):\n",
    "        mean_x = self.mean_module(x)\n",
    "        covar_x = self.covar_module(x)\n",
    "        return gpytorch.distributions.MultitaskMultivariateNormal(mean_x, covar_x)\n",
    "    \n",
    "likelihood = gpytorch.likelihoods.MultitaskGaussianLikelihood(num_tasks=2)\n",
    "model = MultitaskGPModel(train_x, train_y, likelihood)\n",
    "model.covar_module.log_task_outputscales[0] = 0\n",
    "model.covar_module.log_task_outputscales[1] = 0"
   ]
  },
  {
   "cell_type": "code",
   "execution_count": 11,
   "metadata": {
    "autoscroll": false,
    "collapsed": false,
    "ein.hycell": false,
    "ein.tags": "worksheet-0",
    "slideshow": {
     "slide_type": "-"
    }
   },
   "outputs": [
    {
     "name": "stdout",
     "output_type": "stream",
     "text": [
      "torch.Size([20, 20])\n",
      "tensor([[1.0000, 0.9938, 0.9756, 0.9460, 0.9060, 0.8570, 0.8007, 0.7390, 0.6736,\n",
      "         0.6065, 0.0000, 0.0000, 0.0000, 0.0000, 0.0000, 0.0000, 0.0000, 0.0000,\n",
      "         0.0000, 0.0000],\n",
      "        [0.9938, 1.0000, 0.9938, 0.9756, 0.9460, 0.9060, 0.8570, 0.8007, 0.7390,\n",
      "         0.6736, 0.0000, 0.0000, 0.0000, 0.0000, 0.0000, 0.0000, 0.0000, 0.0000,\n",
      "         0.0000, 0.0000],\n",
      "        [0.9756, 0.9938, 1.0000, 0.9938, 0.9756, 0.9460, 0.9060, 0.8570, 0.8007,\n",
      "         0.7390, 0.0000, 0.0000, 0.0000, 0.0000, 0.0000, 0.0000, 0.0000, 0.0000,\n",
      "         0.0000, 0.0000],\n",
      "        [0.9460, 0.9756, 0.9938, 1.0000, 0.9938, 0.9756, 0.9460, 0.9060, 0.8570,\n",
      "         0.8007, 0.0000, 0.0000, 0.0000, 0.0000, 0.0000, 0.0000, 0.0000, 0.0000,\n",
      "         0.0000, 0.0000],\n",
      "        [0.9060, 0.9460, 0.9756, 0.9938, 1.0000, 0.9938, 0.9756, 0.9460, 0.9060,\n",
      "         0.8570, 0.0000, 0.0000, 0.0000, 0.0000, 0.0000, 0.0000, 0.0000, 0.0000,\n",
      "         0.0000, 0.0000],\n",
      "        [0.8570, 0.9060, 0.9460, 0.9756, 0.9938, 1.0000, 0.9938, 0.9756, 0.9460,\n",
      "         0.9060, 0.0000, 0.0000, 0.0000, 0.0000, 0.0000, 0.0000, 0.0000, 0.0000,\n",
      "         0.0000, 0.0000],\n",
      "        [0.8007, 0.8570, 0.9060, 0.9460, 0.9756, 0.9938, 1.0000, 0.9938, 0.9756,\n",
      "         0.9460, 0.0000, 0.0000, 0.0000, 0.0000, 0.0000, 0.0000, 0.0000, 0.0000,\n",
      "         0.0000, 0.0000],\n",
      "        [0.7390, 0.8007, 0.8570, 0.9060, 0.9460, 0.9756, 0.9938, 1.0000, 0.9938,\n",
      "         0.9756, 0.0000, 0.0000, 0.0000, 0.0000, 0.0000, 0.0000, 0.0000, 0.0000,\n",
      "         0.0000, 0.0000],\n",
      "        [0.6736, 0.7390, 0.8007, 0.8570, 0.9060, 0.9460, 0.9756, 0.9938, 1.0000,\n",
      "         0.9938, 0.0000, 0.0000, 0.0000, 0.0000, 0.0000, 0.0000, 0.0000, 0.0000,\n",
      "         0.0000, 0.0000],\n",
      "        [0.6065, 0.6736, 0.7390, 0.8007, 0.8570, 0.9060, 0.9460, 0.9756, 0.9938,\n",
      "         1.0000, 0.0000, 0.0000, 0.0000, 0.0000, 0.0000, 0.0000, 0.0000, 0.0000,\n",
      "         0.0000, 0.0000],\n",
      "        [0.0000, 0.0000, 0.0000, 0.0000, 0.0000, 0.0000, 0.0000, 0.0000, 0.0000,\n",
      "         0.0000, 1.0000, 0.9938, 0.9756, 0.9460, 0.9060, 0.8570, 0.8007, 0.7390,\n",
      "         0.6736, 0.6065],\n",
      "        [0.0000, 0.0000, 0.0000, 0.0000, 0.0000, 0.0000, 0.0000, 0.0000, 0.0000,\n",
      "         0.0000, 0.9938, 1.0000, 0.9938, 0.9756, 0.9460, 0.9060, 0.8570, 0.8007,\n",
      "         0.7390, 0.6736],\n",
      "        [0.0000, 0.0000, 0.0000, 0.0000, 0.0000, 0.0000, 0.0000, 0.0000, 0.0000,\n",
      "         0.0000, 0.9756, 0.9938, 1.0000, 0.9938, 0.9756, 0.9460, 0.9060, 0.8570,\n",
      "         0.8007, 0.7390],\n",
      "        [0.0000, 0.0000, 0.0000, 0.0000, 0.0000, 0.0000, 0.0000, 0.0000, 0.0000,\n",
      "         0.0000, 0.9460, 0.9756, 0.9938, 1.0000, 0.9938, 0.9756, 0.9460, 0.9060,\n",
      "         0.8570, 0.8007],\n",
      "        [0.0000, 0.0000, 0.0000, 0.0000, 0.0000, 0.0000, 0.0000, 0.0000, 0.0000,\n",
      "         0.0000, 0.9060, 0.9460, 0.9756, 0.9938, 1.0000, 0.9938, 0.9756, 0.9460,\n",
      "         0.9060, 0.8570],\n",
      "        [0.0000, 0.0000, 0.0000, 0.0000, 0.0000, 0.0000, 0.0000, 0.0000, 0.0000,\n",
      "         0.0000, 0.8570, 0.9060, 0.9460, 0.9756, 0.9938, 1.0000, 0.9938, 0.9756,\n",
      "         0.9460, 0.9060],\n",
      "        [0.0000, 0.0000, 0.0000, 0.0000, 0.0000, 0.0000, 0.0000, 0.0000, 0.0000,\n",
      "         0.0000, 0.8007, 0.8570, 0.9060, 0.9460, 0.9756, 0.9938, 1.0000, 0.9938,\n",
      "         0.9756, 0.9460],\n",
      "        [0.0000, 0.0000, 0.0000, 0.0000, 0.0000, 0.0000, 0.0000, 0.0000, 0.0000,\n",
      "         0.0000, 0.7390, 0.8007, 0.8570, 0.9060, 0.9460, 0.9756, 0.9938, 1.0000,\n",
      "         0.9938, 0.9756],\n",
      "        [0.0000, 0.0000, 0.0000, 0.0000, 0.0000, 0.0000, 0.0000, 0.0000, 0.0000,\n",
      "         0.0000, 0.6736, 0.7390, 0.8007, 0.8570, 0.9060, 0.9460, 0.9756, 0.9938,\n",
      "         1.0000, 0.9938],\n",
      "        [0.0000, 0.0000, 0.0000, 0.0000, 0.0000, 0.0000, 0.0000, 0.0000, 0.0000,\n",
      "         0.0000, 0.6065, 0.6736, 0.7390, 0.8007, 0.8570, 0.9060, 0.9460, 0.9756,\n",
      "         0.9938, 1.0000]], grad_fn=<Matmul>)\n"
     ]
    }
   ],
   "source": [
    "torch.set_printoptions(precision=4)\n",
    "print(model.covar_module(train_x,train_x).size())\n",
    "print(model.covar_module(train_x,train_x).evaluate())\n"
   ]
  },
  {
   "cell_type": "code",
   "execution_count": 22,
   "metadata": {
    "autoscroll": false,
    "collapsed": false,
    "ein.hycell": false,
    "ein.tags": "worksheet-0",
    "slideshow": {
     "slide_type": "-"
    }
   },
   "outputs": [],
   "source": [
    "# Set into eval mode\n",
    "model.eval()\n",
    "likelihood.eval()\n",
    "\n",
    "# Make predictions\n",
    "with torch.no_grad(), gpytorch.fast_pred_var():\n",
    "    test_x = torch.linspace(0, 1, 1000)\n",
    "    #predictions = likelihood(model(test_x))\n",
    "    predictions = model(test_x)\n",
    "    mean = predictions.mean\n",
    "    lower, upper = predictions.confidence_region()"
   ]
  },
  {
   "cell_type": "code",
   "execution_count": 23,
   "metadata": {
    "autoscroll": false,
    "collapsed": false,
    "ein.hycell": false,
    "ein.tags": "worksheet-0",
    "slideshow": {
     "slide_type": "-"
    }
   },
   "outputs": [
    {
     "data": {
      "text/plain": [
       "[<matplotlib.lines.Line2D at 0x114213b00>]"
      ]
     },
     "execution_count": 23,
     "metadata": {},
     "output_type": "execute_result"
    },
    {
     "data": {
      "image/png": "[encoded data removed]",
      "text/plain": [
       "<Figure size 432x288 with 1 Axes>"
      ]
     },
     "metadata": {},
     "output_type": "display_data"
    }
   ],
   "source": [
    "# training data and posterior mean from task 0\n",
    "plt.scatter(train_x.detach().numpy(), train_y[:, 0].detach().numpy(),color='C0',alpha=0.5)\n",
    "plt.plot(test_x.numpy(), mean[:, 0].numpy(), 'C0')\n",
    "# training data and posterior mean from task 1\n",
    "plt.scatter(train_x.detach().numpy(), train_y[:, 1].detach().numpy(), color='C1',alpha=0.5)\n",
    "plt.plot(test_x.numpy(), mean[:, 1].numpy(), 'C1')\n"
   ]
  },
  {
   "cell_type": "markdown",
   "metadata": {
    "ein.tags": "worksheet-0",
    "slideshow": {
     "slide_type": "-"
    }
   },
   "source": [
    "# Plot means and confidence region\n"
   ]
  },
  {
   "cell_type": "code",
   "execution_count": 18,
   "metadata": {
    "autoscroll": false,
    "collapsed": false,
    "ein.hycell": false,
    "ein.tags": "worksheet-0",
    "slideshow": {
     "slide_type": "-"
    }
   },
   "outputs": [
    {
     "data": {
      "text/plain": [
       "[<matplotlib.lines.Line2D at 0x113e3a940>]"
      ]
     },
     "execution_count": 18,
     "metadata": {},
     "output_type": "execute_result"
    },
    {
     "data": {
      "image/png": "[encoded data removed]",
      "text/plain": [
       "<Figure size 432x288 with 1 Axes>"
      ]
     },
     "metadata": {},
     "output_type": "display_data"
    }
   ],
   "source": [
    "# training data and posterior mean from task 0\n",
    "plt.fill_between(test_x.numpy(), lower[:, 0].numpy(), upper[:, 0].numpy(), alpha=0.5)\n",
    "plt.plot(test_x.numpy(), mean[:, 0].numpy(), 'black')\n",
    "# training data and posterior mean from task 1\n",
    "plt.fill_between(test_x.numpy(), lower[:, 1].numpy(), upper[:, 1].numpy(), alpha=0.5)\n",
    "plt.plot(test_x.numpy(), mean[:, 1].numpy(), 'black')\n"
   ]
  },
  {
   "cell_type": "code",
   "execution_count": 19,
   "metadata": {
    "autoscroll": false,
    "collapsed": false,
    "ein.hycell": false,
    "ein.tags": "worksheet-0",
    "slideshow": {
     "slide_type": "-"
    }
   },
   "outputs": [
    {
     "name": "stdout",
     "output_type": "stream",
     "text": [
      "tensor([[ 0.2900,  0.2651,  0.2362,  0.2044,  0.1708,  0.1366,  0.1028,  0.0707,\n",
      "          0.0410,  0.0144,  0.0000,  0.0000,  0.0000,  0.0000,  0.0000,  0.0000,\n",
      "          0.0000,  0.0000,  0.0000,  0.0000],\n",
      "        [ 0.2651,  0.2490,  0.2288,  0.2051,  0.1788,  0.1508,  0.1221,  0.0936,\n",
      "          0.0663,  0.0410,  0.0000,  0.0000,  0.0000,  0.0000,  0.0000,  0.0000,\n",
      "          0.0000,  0.0000,  0.0000,  0.0000],\n",
      "        [ 0.2362,  0.2288,  0.2174,  0.2023,  0.1840,  0.1632,  0.1407,  0.1172,\n",
      "          0.0936,  0.0707,  0.0000,  0.0000,  0.0000,  0.0000,  0.0000,  0.0000,\n",
      "          0.0000,  0.0000,  0.0000,  0.0000],\n",
      "        [ 0.2044,  0.2051,  0.2023,  0.1959,  0.1861,  0.1733,  0.1580,  0.1407,\n",
      "          0.1221,  0.1028,  0.0000,  0.0000,  0.0000,  0.0000, -0.0000,  0.0000,\n",
      "          0.0000, -0.0000,  0.0000, -0.0000],\n",
      "        [ 0.1708,  0.1788,  0.1840,  0.1861,  0.1850,  0.1807,  0.1733,  0.1632,\n",
      "          0.1508,  0.1366,  0.0000,  0.0000,  0.0000,  0.0000, -0.0000,  0.0000,\n",
      "          0.0000, -0.0000,  0.0000, -0.0000],\n",
      "        [ 0.1366,  0.1508,  0.1632,  0.1733,  0.1807,  0.1850,  0.1861,  0.1840,\n",
      "          0.1788,  0.1708,  0.0000,  0.0000,  0.0000,  0.0000, -0.0000,  0.0000,\n",
      "          0.0000, -0.0000,  0.0000, -0.0000],\n",
      "        [ 0.1028,  0.1221,  0.1407,  0.1580,  0.1733,  0.1861,  0.1959,  0.2023,\n",
      "          0.2051,  0.2044,  0.0000,  0.0000,  0.0000,  0.0000, -0.0000, -0.0000,\n",
      "          0.0000, -0.0000,  0.0000, -0.0000],\n",
      "        [ 0.0707,  0.0936,  0.1172,  0.1407,  0.1632,  0.1840,  0.2023,  0.2174,\n",
      "          0.2288,  0.2362,  0.0000,  0.0000,  0.0000,  0.0000,  0.0000,  0.0000,\n",
      "          0.0000,  0.0000,  0.0000,  0.0000],\n",
      "        [ 0.0410,  0.0663,  0.0936,  0.1221,  0.1508,  0.1788,  0.2051,  0.2288,\n",
      "          0.2490,  0.2651, -0.0000,  0.0000,  0.0000,  0.0000, -0.0000,  0.0000,\n",
      "          0.0000,  0.0000,  0.0000, -0.0000],\n",
      "        [ 0.0144,  0.0410,  0.0707,  0.1028,  0.1366,  0.1708,  0.2044,  0.2362,\n",
      "          0.2651,  0.2900, -0.0000,  0.0000,  0.0000,  0.0000, -0.0000, -0.0000,\n",
      "          0.0000, -0.0000,  0.0000, -0.0000],\n",
      "        [ 0.0000,  0.0000,  0.0000,  0.0000,  0.0000,  0.0000,  0.0000,  0.0000,\n",
      "         -0.0000, -0.0000,  0.2900,  0.2651,  0.2362,  0.2044,  0.1708,  0.1366,\n",
      "          0.1028,  0.0707,  0.0410,  0.0144],\n",
      "        [ 0.0000,  0.0000,  0.0000,  0.0000,  0.0000,  0.0000,  0.0000,  0.0000,\n",
      "          0.0000,  0.0000,  0.2651,  0.2490,  0.2288,  0.2051,  0.1788,  0.1508,\n",
      "          0.1221,  0.0936,  0.0663,  0.0410],\n",
      "        [ 0.0000,  0.0000,  0.0000,  0.0000,  0.0000,  0.0000,  0.0000,  0.0000,\n",
      "          0.0000,  0.0000,  0.2362,  0.2288,  0.2174,  0.2023,  0.1840,  0.1632,\n",
      "          0.1407,  0.1172,  0.0936,  0.0707],\n",
      "        [ 0.0000,  0.0000,  0.0000,  0.0000,  0.0000,  0.0000,  0.0000,  0.0000,\n",
      "          0.0000,  0.0000,  0.2044,  0.2051,  0.2023,  0.1959,  0.1861,  0.1733,\n",
      "          0.1580,  0.1407,  0.1221,  0.1028],\n",
      "        [ 0.0000,  0.0000,  0.0000, -0.0000, -0.0000, -0.0000, -0.0000,  0.0000,\n",
      "         -0.0000, -0.0000,  0.1708,  0.1788,  0.1840,  0.1861,  0.1850,  0.1807,\n",
      "          0.1733,  0.1632,  0.1508,  0.1366],\n",
      "        [ 0.0000,  0.0000,  0.0000,  0.0000,  0.0000,  0.0000, -0.0000,  0.0000,\n",
      "          0.0000, -0.0000,  0.1366,  0.1508,  0.1632,  0.1733,  0.1807,  0.1850,\n",
      "          0.1861,  0.1840,  0.1788,  0.1708],\n",
      "        [ 0.0000,  0.0000,  0.0000,  0.0000,  0.0000,  0.0000,  0.0000,  0.0000,\n",
      "          0.0000,  0.0000,  0.1028,  0.1221,  0.1407,  0.1580,  0.1733,  0.1861,\n",
      "          0.1959,  0.2023,  0.2051,  0.2044],\n",
      "        [ 0.0000,  0.0000,  0.0000, -0.0000, -0.0000, -0.0000, -0.0000,  0.0000,\n",
      "          0.0000, -0.0000,  0.0707,  0.0936,  0.1172,  0.1407,  0.1632,  0.1840,\n",
      "          0.2023,  0.2174,  0.2288,  0.2362],\n",
      "        [ 0.0000,  0.0000,  0.0000,  0.0000,  0.0000,  0.0000,  0.0000,  0.0000,\n",
      "          0.0000,  0.0000,  0.0410,  0.0663,  0.0936,  0.1221,  0.1508,  0.1788,\n",
      "          0.2051,  0.2288,  0.2490,  0.2651],\n",
      "        [ 0.0000,  0.0000,  0.0000, -0.0000, -0.0000, -0.0000, -0.0000,  0.0000,\n",
      "         -0.0000, -0.0000,  0.0144,  0.0410,  0.0707,  0.1028,  0.1366,  0.1708,\n",
      "          0.2044,  0.2362,  0.2651,  0.2900]])\n"
     ]
    },
    {
     "data": {
      "text/plain": [
       "torch.Size([20, 20])"
      ]
     },
     "execution_count": 19,
     "metadata": {},
     "output_type": "execute_result"
    }
   ],
   "source": [
    "print(predictions.covariance_matrix)\n",
    "predictions.covariance_matrix.size()\n"
   ]
  },
  {
   "cell_type": "markdown",
   "metadata": {
    "ein.tags": "worksheet-0",
    "slideshow": {
     "slide_type": "-"
    }
   },
   "source": [
    "LazyTensor testing"
   ]
  },
  {
   "cell_type": "code",
   "execution_count": null,
   "metadata": {
    "autoscroll": false,
    "collapsed": false,
    "ein.hycell": false,
    "ein.tags": "worksheet-0",
    "slideshow": {
     "slide_type": "-"
    }
   },
   "outputs": [],
   "source": [
    "from gpytorch.lazy import LazyTensor,NonLazyTensor,BlockDiagLazyTensor\n",
    "a=torch.Tensor([[1,1],[1,1]])\n",
    "b=torch.Tensor([[2,2],[2,2]])\n",
    "b=NonLazyTensor(torch.stack((a.mul(20),b.mul(30))))\n",
    "c=BlockDiagLazyTensor(b)\n",
    "c.size()\n",
    "c.evaluate()\n"
   ]
  },
  {
   "cell_type": "code",
   "execution_count": null,
   "metadata": {
    "autoscroll": false,
    "collapsed": false,
    "ein.hycell": false,
    "ein.tags": "worksheet-0",
    "slideshow": {
     "slide_type": "-"
    }
   },
   "outputs": [],
   "source": []
  }
 ],
 "metadata": {
  "kernelspec": {
   "display_name": "Python 3",
   "name": "python3"
  },
  "language_info": {
   "codemirror_mode": {
    "name": "ipython",
    "version": 3
   },
   "file_extension": ".py",
   "mimetype": "text/x-python",
   "name": "python",
   "nbconvert_exporter": "python",
   "pygments_lexer": "ipython3",
   "version": "3.7.1"
  },
  "name": "explore.ipynb"
 },
 "nbformat": 4,
 "nbformat_minor": 2
}
